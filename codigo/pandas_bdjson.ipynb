{
 "cells": [
  {
   "cell_type": "code",
   "execution_count": 25,
   "id": "f1bb776c-e0b5-4f19-9102-03ba0a54db35",
   "metadata": {},
   "outputs": [],
   "source": [
    "import pandas as pd\n",
    "import json \n",
    "from pandas import json_normalize\n",
    "import re"
   ]
  },
  {
   "cell_type": "code",
   "execution_count": 26,
   "id": "3ac57e14-a319-4d0d-b1ba-1bad8a4ca5e9",
   "metadata": {},
   "outputs": [],
   "source": [
    "def visualiza_dados ():\n",
    "    df = pd.read_json('/media/hdvm08/bd/002/997/001/json/metadados_bons.json', orient='columns')\n",
    "    df = pd.json_normalize(df['_default'])\n",
    "    # print(df.head())\n",
    "    # print(df.shape)\n",
    "    # print(df.columns)\n",
    "    # print(df.head())\n",
    "    # print(df.tail())\n",
    "    # print(df.dtypes)\n",
    "    # print(df.describe())\n",
    "    # #print(df['quant_pages'].sum())\n",
    "    # #print(df['data'])\n",
    "    # #data_ruim = df.query('data == \"00/00/0000\"')\n",
    "    # data_ruim = df.loc[~df['data'].str.contains('[0-3][0-9]/[0-1][0-9]/[1-2][0-9][0-9][0-9]')]\n",
    "    # print(data_ruim[['data','titulo_noticia']])\n",
    "    # sigla_ruim = df.loc[~df['jornal_sigla'].str.contains('ESP|FSP|GM|GZM', na=False)]\n",
    "    # print(sigla_ruim[['jornal_sigla','titulo_noticia']])\n",
    "    # titulo_ruim = df.loc[df['titulo_noticia'].str.contains(\"NA|''\")]\n",
    "    # print(titulo_ruim[['titulo_noticia','data','jornal_sigla']])\n",
    "    # nome_arq_ruim = df.loc[df['titulo_noticia'].str.contains(\"NA|''\")]\n",
    "    # print(nome_arq_ruim[['titulo_noticia','data','jornal_sigla']])\n",
    "    # print(df)\n",
    "    "
   ]
  },
  {
   "cell_type": "code",
   "execution_count": 27,
   "id": "964c93af-180f-4913-8b92-9536e3bdbd90",
   "metadata": {},
   "outputs": [],
   "source": [
    "visualiza_dados()"
   ]
  },
  {
   "cell_type": "code",
   "execution_count": 28,
   "id": "eca88832-9778-4146-9426-975226030892",
   "metadata": {},
   "outputs": [
    {
     "data": {
      "text/plain": [
       "Index(['tema', 'data', 'jornal', 'jornal_sigla', 'titulo_noticia',\n",
       "       'nome_arquivo_tif', 'nome_arquivo-pdf', 'quant_pages', 'verifica_ocr',\n",
       "       'paragrafos', 'autoria', 'dir_bd', 'dir_arquivo', 'codigo_bd'],\n",
       "      dtype='object')"
      ]
     },
     "execution_count": 28,
     "metadata": {},
     "output_type": "execute_result"
    }
   ],
   "source": [
    "df = pd.read_json('/media/hdvm08/bd/002/997/001/json/metadados_bons.json', orient='columns')\n",
    "df = pd.json_normalize(df['_default'])\n",
    "df.columns\n",
    "\n"
   ]
  },
  {
   "cell_type": "code",
   "execution_count": 29,
   "id": "89123fda-d69e-4e87-b6f1-6de43dfb2b3a",
   "metadata": {},
   "outputs": [
    {
     "data": {
      "text/plain": [
       "6489"
      ]
     },
     "execution_count": 29,
     "metadata": {},
     "output_type": "execute_result"
    }
   ],
   "source": [
    "len(df[\"data\"].unique().tolist())"
   ]
  },
  {
   "cell_type": "code",
   "execution_count": 30,
   "id": "c675bc5c-a764-4db0-950f-48afb3bd2111",
   "metadata": {},
   "outputs": [
    {
     "name": "stdout",
     "output_type": "stream",
     "text": [
      "48\n",
      "['8/01/2003', '1/07/2003', '7/12/2009', '18/2/2003', '5/03/2005', '11/3/2010', '2/03/1996', '1/07/1997', '1/07/2004', '1/10/2004', '2/10/2004', '7/11/2004', '3/12/2004', '7/12/2004', '7/02/2005', '3/05/2005', '9/05/2005', '6/12/2005', '6/12/2005', '2/04/2006', '1/06/2006', '1/07/2006', '1/12/2006', '1/12/2006', '5/12/2006', '4/08/2007', '1/03/2008', '2/09/2008', '2/12/2009', '21/2/1992', '6/12/1997', '5/11/1999', '17/1/2000', '1/07/2001', '6/06/2003', '4/06/2004', '6/08/2004', '1/11/2005', '1/11/2005', '2/02/2007', '6/06/2008', '3/10/2008', '9/11/2008', '3/04/2003', '1/08/2003', '4/08/2007', '09/9/2010', '2/11/1996']\n"
     ]
    }
   ],
   "source": [
    "\n",
    "datas = df[\"data\"].tolist()\n",
    "datas_ruins = []\n",
    "for data in datas:\n",
    "    verifica = re.search(r'[0-3][0-9]/[0-1][0-9]/[1-2][0-9][0-9][0-9]', data)\n",
    "    teste = bool(verifica)\n",
    "    if teste == False:\n",
    "        datas_ruins.append(data)\n",
    "print(len(datas_ruins))\n",
    "print(datas_ruins)\n",
    "# for data in datas:\n",
    "#     dia = data[0:2]\n",
    "#     mes = data[3:5]\n",
    "#     ano = data[6:]\n",
    "#     # if not dia.isnumeric() and mes.isnumeric() and ano.isnumeric():\n",
    "#     # if (dia.isnumeric()==False) or (mes.isnumeric()==False) or (ano.isnumeric()==False):\n",
    "#         print(dia, mes, ano)\n",
    "    "
   ]
  },
  {
   "cell_type": "code",
   "execution_count": 31,
   "id": "4b5a07f6-ba0d-493b-99e7-7a84b268ae54",
   "metadata": {},
   "outputs": [
    {
     "data": {
      "text/plain": [
       "92"
      ]
     },
     "execution_count": 31,
     "metadata": {},
     "output_type": "execute_result"
    }
   ],
   "source": [
    "len(df['jornal_sigla'].unique().tolist())"
   ]
  },
  {
   "cell_type": "code",
   "execution_count": 32,
   "id": "0d2e6292-cc05-4626-9e98-9f66961ec0c5",
   "metadata": {},
   "outputs": [
    {
     "data": {
      "text/plain": [
       "['GM',\n",
       " 'ESP',\n",
       " 'GZM',\n",
       " 'VALOR',\n",
       " 'FSP',\n",
       " 'NA',\n",
       " 'Valor',\n",
       " 'estadao',\n",
       " 'clarin',\n",
       " 'ISTOE',\n",
       " 'JB',\n",
       " 'JT',\n",
       " 'VEJA',\n",
       " 'DAILYPOST',\n",
       " 'JC',\n",
       " 'SBPC',\n",
       " 'valor',\n",
       " 'EmWall',\n",
       " \"O'Neill\",\n",
       " 'FHC',\n",
       " 'Bush',\n",
       " 'EUA',\n",
       " 'Gigante',\n",
       " 'VE',\n",
       " 'Washington',\n",
       " 'OMC',\n",
       " 'Brasil',\n",
       " 'Embaixadora',\n",
       " 'XXX',\n",
       " 'OEA',\n",
       " 'Collor',\n",
       " 'visao',\n",
       " 'Gm',\n",
       " 'Toro',\n",
       " 'ESO',\n",
       " 'FL',\n",
       " 'NG',\n",
       " 'xxx',\n",
       " 'EC',\n",
       " 'J',\n",
       " 'B',\n",
       " 'GM.tif',\n",
       " 'ESPQueda',\n",
       " 'GMNovo',\n",
       " 'GMVW',\n",
       " 'page0001.tif',\n",
       " 'GMUm',\n",
       " 'Cardoso',\n",
       " 'GMUE',\n",
       " 'TA',\n",
       " 'Alca',\n",
       " 'Europeus',\n",
       " 'ESp',\n",
       " 'PT',\n",
       " 'xx',\n",
       " 'Acordo',\n",
       " 'GMAlencar',\n",
       " \"''Brasil\",\n",
       " 'América',\n",
       " 'Mercosul',\n",
       " 'Uruguai',\n",
       " 'Estrutura',\n",
       " 'Perdas',\n",
       " 'XX',\n",
       " 'Atraso',\n",
       " \"''Acordo\",\n",
       " 'Empresario',\n",
       " 'Cúpulas',\n",
       " 'Declaração',\n",
       " 'globo',\n",
       " 'Chirac',\n",
       " 'ambiente',\n",
       " 'FDS',\n",
       " 'desconhecido',\n",
       " 'EXAME',\n",
       " 'istoé',\n",
       " 'Pastore',\n",
       " 'ES',\n",
       " 'Setúbal',\n",
       " 'ciência',\n",
       " 'le',\n",
       " 'Itamaraty',\n",
       " 'Acordos',\n",
       " 'OAB',\n",
       " 'Siderurgicas',\n",
       " 'CSN',\n",
       " 'GMContencioso',\n",
       " 'BR',\n",
       " 'Lampreia',\n",
       " 'Site',\n",
       " 'Lafer',\n",
       " 'Empresas']"
      ]
     },
     "execution_count": 32,
     "metadata": {},
     "output_type": "execute_result"
    }
   ],
   "source": [
    "siglas = df['jornal_sigla'].unique().tolist()\n",
    "siglas"
   ]
  },
  {
   "cell_type": "code",
   "execution_count": 33,
   "id": "26efce0a-3fa6-4f38-a709-0a4186a0e3b8",
   "metadata": {},
   "outputs": [
    {
     "data": {
      "text/plain": [
       "27905"
      ]
     },
     "execution_count": 33,
     "metadata": {},
     "output_type": "execute_result"
    }
   ],
   "source": [
    "len(df['titulo_noticia'].tolist())"
   ]
  },
  {
   "cell_type": "code",
   "execution_count": 34,
   "id": "54506c49-4878-4608-9c6f-692ed6eef74b",
   "metadata": {},
   "outputs": [
    {
     "name": "stdout",
     "output_type": "stream",
     "text": [
      "0\n",
      "0\n",
      "[]\n"
     ]
    }
   ],
   "source": [
    "titulos = df['titulo_noticia'].tolist()\n",
    "titulo_na = []\n",
    "titulo_vazio = []\n",
    "for titulo in titulos:\n",
    "    if titulo == 'NA':\n",
    "        titulo_na.append(titulo)\n",
    "    elif titulo == \"\":\n",
    "        titulo_vazio.append(titulo)\n",
    "print(len(titulo_na))\n",
    "print(len(titulo_vazio))\n",
    "print(titulo_na)\n",
    "# print(titulo_vazio)\n",
    "        "
   ]
  },
  {
   "cell_type": "code",
   "execution_count": 35,
   "id": "975a4212",
   "metadata": {},
   "outputs": [
    {
     "data": {
      "text/plain": [
       "27905"
      ]
     },
     "execution_count": 35,
     "metadata": {},
     "output_type": "execute_result"
    }
   ],
   "source": [
    "len(df)"
   ]
  },
  {
   "cell_type": "code",
   "execution_count": 36,
   "id": "3aa7c6a8",
   "metadata": {},
   "outputs": [
    {
     "data": {
      "text/html": [
       "<div>\n",
       "<style scoped>\n",
       "    .dataframe tbody tr th:only-of-type {\n",
       "        vertical-align: middle;\n",
       "    }\n",
       "\n",
       "    .dataframe tbody tr th {\n",
       "        vertical-align: top;\n",
       "    }\n",
       "\n",
       "    .dataframe thead th {\n",
       "        text-align: right;\n",
       "    }\n",
       "</style>\n",
       "<table border=\"1\" class=\"dataframe\">\n",
       "  <thead>\n",
       "    <tr style=\"text-align: right;\">\n",
       "      <th></th>\n",
       "      <th>tema</th>\n",
       "      <th>data</th>\n",
       "      <th>jornal</th>\n",
       "      <th>jornal_sigla</th>\n",
       "      <th>titulo_noticia</th>\n",
       "      <th>nome_arquivo_tif</th>\n",
       "      <th>nome_arquivo-pdf</th>\n",
       "      <th>quant_pages</th>\n",
       "      <th>verifica_ocr</th>\n",
       "      <th>paragrafos</th>\n",
       "      <th>autoria</th>\n",
       "      <th>dir_bd</th>\n",
       "      <th>dir_arquivo</th>\n",
       "      <th>codigo_bd</th>\n",
       "    </tr>\n",
       "  </thead>\n",
       "  <tbody>\n",
       "  </tbody>\n",
       "</table>\n",
       "</div>"
      ],
      "text/plain": [
       "Empty DataFrame\n",
       "Columns: [tema, data, jornal, jornal_sigla, titulo_noticia, nome_arquivo_tif, nome_arquivo-pdf, quant_pages, verifica_ocr, paragrafos, autoria, dir_bd, dir_arquivo, codigo_bd]\n",
       "Index: []"
      ]
     },
     "execution_count": 36,
     "metadata": {},
     "output_type": "execute_result"
    }
   ],
   "source": [
    "siglas = df.query(\"'_' in jornal_sigla\")\n",
    "siglas"
   ]
  }
 ],
 "metadata": {
  "kernelspec": {
   "display_name": "Python 3 (ipykernel)",
   "language": "python",
   "name": "python3"
  },
  "language_info": {
   "codemirror_mode": {
    "name": "ipython",
    "version": 3
   },
   "file_extension": ".py",
   "mimetype": "text/x-python",
   "name": "python",
   "nbconvert_exporter": "python",
   "pygments_lexer": "ipython3",
   "version": "3.9.6"
  }
 },
 "nbformat": 4,
 "nbformat_minor": 5
}
