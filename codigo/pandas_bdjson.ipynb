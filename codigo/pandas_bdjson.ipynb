{
 "cells": [
  {
   "cell_type": "code",
   "execution_count": 1,
   "id": "f1bb776c-e0b5-4f19-9102-03ba0a54db35",
   "metadata": {},
   "outputs": [],
   "source": [
    "import pandas as pd\n",
    "import json \n",
    "from pandas import json_normalize"
   ]
  },
  {
   "cell_type": "code",
   "execution_count": 2,
   "id": "3ac57e14-a319-4d0d-b1ba-1bad8a4ca5e9",
   "metadata": {},
   "outputs": [
    {
     "name": "stdout",
     "output_type": "stream",
     "text": [
      "                                                _default\n",
      "1      {'tema': '03-brasil-argentina', 'data': '//000...\n",
      "10     {'tema': '03-brasil-argentina', 'data': '00/00...\n",
      "100    {'tema': '03-brasil-argentina', 'data': '16/12...\n",
      "1000   {'tema': '03-brasil-argentina', 'data': '23/02...\n",
      "10000  {'tema': '12-brasil-politica_exterior', 'data'...\n",
      "...                                                  ...\n",
      "9995   {'tema': '12-brasil-politica_exterior', 'data'...\n",
      "9996   {'tema': '12-brasil-politica_exterior', 'data'...\n",
      "9997   {'tema': '12-brasil-politica_exterior', 'data'...\n",
      "9998   {'tema': '12-brasil-politica_exterior', 'data'...\n",
      "9999   {'tema': '12-brasil-politica_exterior', 'data'...\n",
      "\n",
      "[28139 rows x 1 columns]\n"
     ]
    }
   ],
   "source": [
    "df = pd.read_json('teste.json')\n",
    "print(df)\n",
    "    "
   ]
  },
  {
   "cell_type": "code",
   "execution_count": 8,
   "id": "964c93af-180f-4913-8b92-9536e3bdbd90",
   "metadata": {},
   "outputs": [
    {
     "name": "stdout",
     "output_type": "stream",
     "text": [
      "                                          _default.1  \\\n",
      "0  {'tema': '03-brasil-argentina', 'data': '//000...   \n",
      "\n",
      "                                          _default.2  \\\n",
      "0  {'tema': '03-brasil-argentina', 'data': '00/00...   \n",
      "\n",
      "                                          _default.3  \\\n",
      "0  {'tema': '03-brasil-argentina', 'data': '00/00...   \n",
      "\n",
      "                                          _default.4  \\\n",
      "0  {'tema': '03-brasil-argentina', 'data': '00/00...   \n",
      "\n",
      "                                          _default.5  \\\n",
      "0  {'tema': '03-brasil-argentina', 'data': '00/00...   \n",
      "\n",
      "                                          _default.6  \\\n",
      "0  {'tema': '03-brasil-argentina', 'data': '00/00...   \n",
      "\n",
      "                                          _default.7  \\\n",
      "0  {'tema': '03-brasil-argentina', 'data': '00/00...   \n",
      "\n",
      "                                          _default.8  \\\n",
      "0  {'tema': '03-brasil-argentina', 'data': '00/00...   \n",
      "\n",
      "                                          _default.9  \\\n",
      "0  {'tema': '03-brasil-argentina', 'data': '00/00...   \n",
      "\n",
      "                                         _default.10  ...  \\\n",
      "0  {'tema': '03-brasil-argentina', 'data': '00/00...  ...   \n",
      "\n",
      "                                      _default.28130  \\\n",
      "0  {'tema': '06-brasil-economia_internacional', '...   \n",
      "\n",
      "                                      _default.28131  \\\n",
      "0  {'tema': '06-brasil-economia_internacional', '...   \n",
      "\n",
      "                                      _default.28132  \\\n",
      "0  {'tema': '06-brasil-economia_internacional', '...   \n",
      "\n",
      "                                      _default.28133  \\\n",
      "0  {'tema': '06-brasil-economia_internacional', '...   \n",
      "\n",
      "                                      _default.28134  \\\n",
      "0  {'tema': '06-brasil-economia_internacional', '...   \n",
      "\n",
      "                                      _default.28135  \\\n",
      "0  {'tema': '06-brasil-economia_internacional', '...   \n",
      "\n",
      "                                      _default.28136  \\\n",
      "0  {'tema': '06-brasil-economia_internacional', '...   \n",
      "\n",
      "                                      _default.28137  \\\n",
      "0  {'tema': '06-brasil-economia_internacional', '...   \n",
      "\n",
      "                                      _default.28138  \\\n",
      "0  {'tema': '06-brasil-economia_internacional', '...   \n",
      "\n",
      "                                      _default.28139  \n",
      "0  {'tema': '06-brasil-economia_internacional', '...  \n",
      "\n",
      "[1 rows x 28139 columns]\n"
     ]
    }
   ],
   "source": [
    "with open('teste.json', 'r') as arq:\n",
    "        dado = json.loads(arq.read())\n",
    "df = pd.json_normalize(dado, max_level=1)\n",
    "print(df)"
   ]
  }
 ],
 "metadata": {
  "kernelspec": {
   "display_name": "Python 3 (ipykernel)",
   "language": "python",
   "name": "python3"
  },
  "language_info": {
   "codemirror_mode": {
    "name": "ipython",
    "version": 3
   },
   "file_extension": ".py",
   "mimetype": "text/x-python",
   "name": "python",
   "nbconvert_exporter": "python",
   "pygments_lexer": "ipython3",
   "version": "3.10.2"
  }
 },
 "nbformat": 4,
 "nbformat_minor": 5
}
