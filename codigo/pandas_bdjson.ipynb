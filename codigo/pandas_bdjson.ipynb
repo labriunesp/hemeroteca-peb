{
 "cells": [
  {
   "cell_type": "code",
   "execution_count": 66,
   "id": "f1bb776c-e0b5-4f19-9102-03ba0a54db35",
   "metadata": {},
   "outputs": [],
   "source": [
    "import pandas as pd\n",
    "import json \n",
    "from pandas import json_normalize"
   ]
  },
  {
   "cell_type": "code",
   "execution_count": 67,
   "id": "3ac57e14-a319-4d0d-b1ba-1bad8a4ca5e9",
   "metadata": {},
   "outputs": [],
   "source": [
    "def visualiza_dados ():\n",
    "    df = pd.read_json('teste.json', orient='columns')\n",
    "    df = pd.json_normalize(df['_default'])\n",
    "    # print(df.head())\n",
    "    # print(df.shape)\n",
    "    # print(df.columns)\n",
    "    # print(df.head())\n",
    "    # print(df.tail())\n",
    "    # print(df.dtypes)\n",
    "    # print(df.describe())\n",
    "    # #print(df['quant_pages'].sum())\n",
    "    # #print(df['data'])\n",
    "    # #data_ruim = df.query('data == \"00/00/0000\"')\n",
    "    # data_ruim = df.loc[~df['data'].str.contains('[0-3][0-9]/[0-1][0-9]/[1-2][0-9][0-9][0-9]')]\n",
    "    # print(data_ruim[['data','titulo_noticia']])\n",
    "    # sigla_ruim = df.loc[~df['jornal_sigla'].str.contains('ESP|FSP|GM|GZM', na=False)]\n",
    "    # print(sigla_ruim[['jornal_sigla','titulo_noticia']])\n",
    "    # titulo_ruim = df.loc[df['titulo_noticia'].str.contains(\"NA|''\")]\n",
    "    # print(titulo_ruim[['titulo_noticia','data','jornal_sigla']])\n",
    "    nome_arq_ruim = df.loc[df['titulo_noticia'].str.contains(\"NA|''\")]\n",
    "    print(nome_arq_ruim[['titulo_noticia','data','jornal_sigla']])"
   ]
  },
  {
   "cell_type": "code",
   "execution_count": 68,
   "id": "964c93af-180f-4913-8b92-9536e3bdbd90",
   "metadata": {},
   "outputs": [
    {
     "name": "stdout",
     "output_type": "stream",
     "text": [
      "                                   titulo_noticia           data  \\\n",
      "5                                              NA     27/10/2001   \n",
      "302    CNA protesta contra a entrada de carne bov     27/03/2002   \n",
      "314                                            NA  05ESP/04/2002   \n",
      "490                                            NA     31/05/2002   \n",
      "808                                            NA     09/11/2002   \n",
      "...                                           ...            ...   \n",
      "27670                                          NA  13ESP/12/2000   \n",
      "27851                                          NA  04ESP/02/2002   \n",
      "27944                                          NA     04/06/2001   \n",
      "28076                                          NA     02/10/2001   \n",
      "28103                                          NA     11/10/2001   \n",
      "\n",
      "                                            jornal_sigla  \n",
      "5      FHC__defende_distribuição_de_poder_no_mundo_pa...  \n",
      "302                                                   GM  \n",
      "314    Lafer_apoia_taxas_mais_altas_na_siderurgia_pag...  \n",
      "490    Empresas_analisarão_negócios_em_oito_países_pa...  \n",
      "808    ESPBrasil_nega_haver_célula_terrorista_na_Tríp...  \n",
      "...                                                  ...  \n",
      "27670        Conflito_apazigua_separarismo_de_Quebec.tif  \n",
      "27851  Recessao_reduzira_os_investimentos_estrang_(1)...  \n",
      "27944           Site_estimulara_exportacoes_page0001.tif  \n",
      "28076         Lafer_vai_depor_no_senado_e_na_CÃ¢mara.tif  \n",
      "28103  FHC_cobra_mais_espaço_para_países_emergentes_p...  \n",
      "\n",
      "[1599 rows x 3 columns]\n"
     ]
    }
   ],
   "source": [
    "visualiza_dados()"
   ]
  }
 ],
 "metadata": {
  "kernelspec": {
   "display_name": "Python 3 (ipykernel)",
   "language": "python",
   "name": "python3"
  },
  "language_info": {
   "codemirror_mode": {
    "name": "ipython",
    "version": 3
   },
   "file_extension": ".py",
   "mimetype": "text/x-python",
   "name": "python",
   "nbconvert_exporter": "python",
   "pygments_lexer": "ipython3",
   "version": "3.9.6"
  }
 },
 "nbformat": 4,
 "nbformat_minor": 5
}
